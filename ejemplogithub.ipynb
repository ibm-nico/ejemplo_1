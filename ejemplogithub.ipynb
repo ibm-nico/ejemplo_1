{
  "nbformat": 4,
  "nbformat_minor": 0,
  "metadata": {
    "colab": {
      "name": "ejemplogithub.ipynb",
      "provenance": [],
      "authorship_tag": "ABX9TyP9FrrH1mqkx6C+VJj26NBW",
      "include_colab_link": true
    },
    "kernelspec": {
      "name": "python3",
      "display_name": "Python 3"
    }
  },
  "cells": [
    {
      "cell_type": "markdown",
      "metadata": {
        "id": "view-in-github",
        "colab_type": "text"
      },
      "source": [
        "<a href=\"https://colab.research.google.com/github/ibm-nico/ejemplo_1/blob/master/ejemplogithub.ipynb\" target=\"_parent\"><img src=\"https://colab.research.google.com/assets/colab-badge.svg\" alt=\"Open In Colab\"/></a>"
      ]
    },
    {
      "cell_type": "code",
      "metadata": {
        "id": "yi4733oSFqr4",
        "colab_type": "code",
        "colab": {
          "base_uri": "https://localhost:8080/",
          "height": 34
        },
        "outputId": "d1d61fe7-359a-441d-bd7d-6392f7040207"
      },
      "source": [
        "print(\"hola Nicolás\")"
      ],
      "execution_count": 2,
      "outputs": [
        {
          "output_type": "stream",
          "text": [
            "hola Nicolás\n"
          ],
          "name": "stdout"
        }
      ]
    }
  ]
}